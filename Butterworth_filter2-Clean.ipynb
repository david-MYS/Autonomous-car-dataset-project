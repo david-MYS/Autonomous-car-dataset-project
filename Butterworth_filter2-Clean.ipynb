{
 "cells": [
  {
   "cell_type": "code",
   "execution_count": 5,
   "metadata": {},
   "outputs": [],
   "source": [
    "from urllib.request import urlopen\n",
    "from io import StringIO\n",
    "import csv\n",
    "import numpy as np\n",
    "import pandas as pd\n",
    "from datetime import datetime"
   ]
  },
  {
   "cell_type": "code",
   "execution_count": 6,
   "metadata": {},
   "outputs": [],
   "source": [
    "import scipy.signal as signal\n",
    "import matplotlib.pyplot as plt"
   ]
  },
  {
   "cell_type": "code",
   "execution_count": 7,
   "metadata": {},
   "outputs": [],
   "source": [
    "df = pd.read_csv(\"iMotionsData.CSV\")\n"
   ]
  },
  {
   "cell_type": "code",
   "execution_count": 8,
   "metadata": {},
   "outputs": [],
   "source": [
    "hr = df['Cal InternalAdc13 (Shimmer Sensor)']\n",
    "time = df['RelativeTime']"
   ]
  },
  {
   "cell_type": "code",
   "execution_count": 9,
   "metadata": {},
   "outputs": [],
   "source": [
    "#To convert a pandas dataframe (df) to a numpy ndarray, use this code:\n",
    "hr_arry = hr.values\n",
    "time_arry = time.values\n"
   ]
  },
  {
   "cell_type": "code",
   "execution_count": 10,
   "metadata": {},
   "outputs": [],
   "source": [
    "#Function to skip lines in the csv files\n",
    "def skiplines(fr, lines):\n",
    "    #fp is file reader and lines is the number of lines to skip\n",
    "    i = 1\n",
    "    while i<=lines:\n",
    "        i = i+1\n",
    "        row = next(fr)\n",
    "\n",
    "#Plotting imotions Data\n",
    "imofile = open('iMotionsData.csv','r')\n",
    "imoreader = csv.reader(imofile)\n",
    "skiplines(imoreader,1)\n",
    "imodata = list(imoreader)\n",
    "time = [float(imodata[i][0]) for i in range(len(imodata))]\n",
    "eventmarker = [float(imodata[i][2]) for i in range(len(imodata))]\n",
    "                \n",
    "#Locating indices and respective times for vertical marker placement\n",
    "xi = [eventmarker.index(1)]\n",
    "xi.append(eventmarker.index(21))\n",
    "xi.append(eventmarker.index(5))\n",
    "xi.append(eventmarker.index(10))\n",
    "xc = [time[xi[0]]]\n",
    "for i in xi:\n",
    "    xc.append(time[i])\n",
    "#print \"x coordinates: \", xc ,'\\n'\n",
    "    "
   ]
  },
  {
   "cell_type": "code",
   "execution_count": 12,
   "metadata": {},
   "outputs": [],
   "source": [
    "# First, design the Buterworth filter\n",
    "N  = 1    # Filter order\n",
    "Wn = 0.00005 # Cutoff frequency\n",
    "B, A = signal.butter(N, Wn, output='ba')\n",
    " \n",
    "# Second, apply the filter to HR\n",
    "hrf = signal.filtfilt(B,A, hr_arry)\n",
    " \n",
    "# Make plots\n",
    "fig = plt.figure()\n",
    "ax1 = fig.add_subplot(211)\n",
    "plt.plot(time_arry,hr_arry, 'b-')\n",
    "plt.plot(time_arry,hrf, 'r-',linewidth=2)\n",
    "plt.ylabel(\"PPG/HR\")\n",
    "plt.legend(['Original','Filtered'])\n",
    "\n",
    "#vertical marker\n",
    "for j in xc:\n",
    "    plt.axvline(x = j, linewidth = 0.25)\n",
    "    \n",
    "plt.title(\"Physiological Data Plot (PPG)\")\n",
    "ax1.axes.get_xaxis().set_visible(True)\n",
    " \n",
    "    \n",
    "fig.savefig(\"iMotionsDrivingData1.pdf\",bbox_inches = 'tight')\n",
    "plt.close()\n",
    "    "
   ]
  },
  {
   "cell_type": "code",
   "execution_count": null,
   "metadata": {},
   "outputs": [],
   "source": []
  }
 ],
 "metadata": {
  "kernelspec": {
   "display_name": "Python 3",
   "language": "python",
   "name": "python3"
  },
  "language_info": {
   "codemirror_mode": {
    "name": "ipython",
    "version": 3
   },
   "file_extension": ".py",
   "mimetype": "text/x-python",
   "name": "python",
   "nbconvert_exporter": "python",
   "pygments_lexer": "ipython3",
   "version": "3.7.1"
  }
 },
 "nbformat": 4,
 "nbformat_minor": 2
}
